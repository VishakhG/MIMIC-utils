{
 "cells": [
  {
   "cell_type": "markdown",
   "metadata": {},
   "source": [
    "# Cohorts from RCTs "
   ]
  },
  {
   "cell_type": "code",
   "execution_count": 23,
   "metadata": {
    "collapsed": false
   },
   "outputs": [],
   "source": [
    "from __future__ import division\n",
    "import numpy as np\n",
    "import pandas as pd\n",
    "from os import walk\n",
    "from os import listdir\n",
    "from os.path import isfile, join \n",
    "import itertools "
   ]
  },
  {
   "cell_type": "code",
   "execution_count": 2,
   "metadata": {
    "collapsed": false
   },
   "outputs": [],
   "source": [
    "#path to the files with admissions for each component\n",
    "path = \"../../../patient-similarity/temp/cohort-components/\"\n",
    "files = [f for f in listdir(path) if isfile(join(path, f))]"
   ]
  },
  {
   "cell_type": "code",
   "execution_count": 3,
   "metadata": {
    "collapsed": false
   },
   "outputs": [],
   "source": [
    "#get height weights\n",
    "height_weight = pd.read_csv(join(path, 'height_weight.csv'));"
   ]
  },
  {
   "cell_type": "code",
   "execution_count": 4,
   "metadata": {
    "collapsed": false
   },
   "outputs": [
    {
     "data": {
      "text/html": [
       "<div>\n",
       "<table border=\"1\" class=\"dataframe\">\n",
       "  <thead>\n",
       "    <tr style=\"text-align: right;\">\n",
       "      <th></th>\n",
       "      <th>0</th>\n",
       "    </tr>\n",
       "  </thead>\n",
       "  <tbody>\n",
       "    <tr>\n",
       "      <th>0</th>\n",
       "      <td>145834</td>\n",
       "    </tr>\n",
       "    <tr>\n",
       "      <th>1</th>\n",
       "      <td>185777</td>\n",
       "    </tr>\n",
       "    <tr>\n",
       "      <th>2</th>\n",
       "      <td>107064</td>\n",
       "    </tr>\n",
       "    <tr>\n",
       "      <th>3</th>\n",
       "      <td>150750</td>\n",
       "    </tr>\n",
       "    <tr>\n",
       "      <th>4</th>\n",
       "      <td>194540</td>\n",
       "    </tr>\n",
       "  </tbody>\n",
       "</table>\n",
       "</div>"
      ],
      "text/plain": [
       "        0\n",
       "0  145834\n",
       "1  185777\n",
       "2  107064\n",
       "3  150750\n",
       "4  194540"
      ]
     },
     "execution_count": 4,
     "metadata": {},
     "output_type": "execute_result"
    }
   ],
   "source": [
    "# get ages and determine whose over 18\n",
    "demo = pd.read_csv(join(path, \"demographics.csv\"))\n",
    "adult_ids = (demo[demo['age_group'] == 'adult']['hadm_id']).values.ravel().tolist()\n",
    "pd.DataFrame(adult_ids).head()"
   ]
  },
  {
   "cell_type": "code",
   "execution_count": 5,
   "metadata": {
    "collapsed": false
   },
   "outputs": [
    {
     "name": "stdout",
     "output_type": "stream",
     "text": [
      "There are 0 admissions for extracorporeal_membrane_oxygenation\n",
      "There are 1286 admissions for cancers\n",
      "There are 114 admissions for bleeding\n",
      "There are 28945 admissions for height_weight\n",
      "There are 5 admissions for mechanical_ventilation\n",
      "There are 0 admissions for pregnancy\n",
      "There are 3064 admissions for thrombocytopenia\n",
      "There are 3206 admissions for Hemodialysis\n",
      "There are 0 admissions for low_bmi\n",
      "There are 0 admissions for rheumatoid_arthritis\n",
      "There are 576 admissions for sedated\n",
      "There are 1852 admissions for brain_injury\n",
      "There are 1270 admissions for sepsis\n",
      "There are 0 admissions for vasopressor_GENERIC_drugs\n",
      "There are 23 admissions for skin_lesions\n",
      "There are 829 admissions for vasopressor_infusion\n",
      "There are 0 admissions for epidural_catheter\n",
      "There are 0 admissions for high_bmi\n",
      "There are 280 admissions for intestinal_problems\n",
      "There are 2994 admissions for cancer_cohort_ids\n",
      "There are 6 admissions for antiplatlet\n",
      "There are 31402 admissions for vasopressor_POE_drugs\n",
      "There are 2950 admissions for liver_cirrhosis\n",
      "There are 2585 admissions for septic_shock\n",
      "There are 10 admissions for central_venous_catheter\n",
      "There are 18842 admissions for tracheal_intubation\n",
      "There are 730 admissions for hemorrhagic_brain_injury\n",
      "There are 579 admissions for tracheostomy\n",
      "There are 94 admissions for deep_vein_thrombosis\n",
      "There are 0 admissions for anelgesic_allergy\n",
      "There are 58976 admissions for demographics\n",
      "There are 1366 admissions for Intracerebral hemorrhage \n",
      "There are 0 admissions for peptic_ulcer\n",
      "There are 35 admissions for traumatic_brain_injury\n"
     ]
    }
   ],
   "source": [
    "#Go through and check if they were empty, if not, then create a dictionary where the keys are truncated \n",
    "#filenames and values are the list of admission ids\n",
    "a_ids = {}\n",
    "for fname in files:\n",
    "    try:\n",
    "        d_i = pd.read_csv(join(path, fname))\n",
    "        a_ids[fname[0 : -4]] = d_i.values.ravel().tolist()\n",
    "        length = len(d_i)\n",
    "\n",
    "    except:\n",
    "        length = 0\n",
    "    \n",
    "    print \"There are {0} admissions for {1}\".format(length, fname[0:-4])"
   ]
  },
  {
   "cell_type": "code",
   "execution_count": 6,
   "metadata": {
    "collapsed": false
   },
   "outputs": [
    {
     "data": {
      "text/plain": [
       "['bleeding',\n",
       " 'antiplatlet',\n",
       " 'deep_vein_thrombosis',\n",
       " 'brain_injury',\n",
       " 'liver_cirrhosis',\n",
       " 'height_weight',\n",
       " 'thrombocytopenia',\n",
       " 'Hemodialysis',\n",
       " 'sedated',\n",
       " 'tracheal_intubation',\n",
       " 'sepsis',\n",
       " 'tracheostomy',\n",
       " 'Intracerebral hemorrhage ',\n",
       " 'traumatic_brain_injury',\n",
       " 'demographics',\n",
       " 'hemorrhagic_brain_injury',\n",
       " 'intestinal_problems',\n",
       " 'mechanical_ventilation',\n",
       " 'vasopressor_infusion',\n",
       " 'skin_lesions',\n",
       " 'septic_shock',\n",
       " 'vasopressor_POE_drugs',\n",
       " 'central_venous_catheter',\n",
       " 'cancers',\n",
       " 'cancer_cohort_ids']"
      ]
     },
     "execution_count": 6,
     "metadata": {},
     "output_type": "execute_result"
    }
   ],
   "source": [
    "#list the keys of the dictionary\n",
    "a_ids.keys()"
   ]
  },
  {
   "cell_type": "markdown",
   "metadata": {
    "collapsed": true
   },
   "source": [
    "# NCT02659839  \n",
    "### Mortality in Cancer Patients Admitted to the Intensive Care Unit in a Resource-limited Setting"
   ]
  },
  {
   "cell_type": "code",
   "execution_count": 7,
   "metadata": {
    "collapsed": false
   },
   "outputs": [
    {
     "name": "stdout",
     "output_type": "stream",
     "text": [
      "1076\n"
     ]
    }
   ],
   "source": [
    "#Create a cohort by finding intersections of sets of ids for AND conditions and unions for OR conditions\n",
    "res_1 = set(a_ids['cancers']).intersection(\n",
    "    #Union of a few components\n",
    "    (a_ids['mechanical_ventilation'] + a_ids['vasopressor_POE_drugs'] + a_ids['Hemodialysis'] ) ,\n",
    "    adult_ids\n",
    ")\n",
    "print(len(res_1))"
   ]
  },
  {
   "cell_type": "markdown",
   "metadata": {},
   "source": [
    "# NCT02872792, \n",
    "### Early Mobilisation in Intensive Care Unit : Interest of Cyclo-ergometry in Patients With Septic Chock\n"
   ]
  },
  {
   "cell_type": "code",
   "execution_count": 8,
   "metadata": {
    "collapsed": false
   },
   "outputs": [],
   "source": [
    "res_2 = set(a_ids['septic_shock']).intersection(\n",
    "        (a_ids['mechanical_ventilation'] + a_ids['tracheal_intubation']),\n",
    "        adult_ids\n",
    "       )\n",
    "\n"
   ]
  },
  {
   "cell_type": "code",
   "execution_count": 9,
   "metadata": {
    "collapsed": false
   },
   "outputs": [
    {
     "name": "stdout",
     "output_type": "stream",
     "text": [
      "1637\n"
     ]
    }
   ],
   "source": [
    "#Remove everything in the set of IDs belonging to the set of IDs with properties that exclude them\n",
    "exclusion_2 = (\n",
    "    a_ids['central_venous_catheter'] + \n",
    "    a_ids['skin_lesions'] + \n",
    "    a_ids['deep_vein_thrombosis'] + \n",
    "    a_ids['brain_injury'] )\n",
    "\n",
    "res_2 = [item for item in res_2 if item not in exclusion_2]\n",
    "print len(res_2)"
   ]
  },
  {
   "cell_type": "markdown",
   "metadata": {},
   "source": [
    "# NCT01793363, \n",
    "### Tracheostomy and Weaning From Mechanical Ventilation : Evaluation of the Lung Ultrasound Score\n",
    "    "
   ]
  },
  {
   "cell_type": "code",
   "execution_count": 10,
   "metadata": {
    "collapsed": false
   },
   "outputs": [],
   "source": [
    "res_3 = a_ids['tracheostomy']"
   ]
  },
  {
   "cell_type": "code",
   "execution_count": 11,
   "metadata": {
    "collapsed": false
   },
   "outputs": [
    {
     "name": "stdout",
     "output_type": "stream",
     "text": [
      "579\n"
     ]
    }
   ],
   "source": [
    "print len(res_3)"
   ]
  },
  {
   "cell_type": "markdown",
   "metadata": {},
   "source": [
    "# NCT01784159 \n",
    "### Aspirin for Treatment of Severe Sepsis\n"
   ]
  },
  {
   "cell_type": "code",
   "execution_count": 12,
   "metadata": {
    "collapsed": false
   },
   "outputs": [
    {
     "name": "stdout",
     "output_type": "stream",
     "text": [
      "2994\n"
     ]
    }
   ],
   "source": [
    "res_4 = a_ids['sepsis'] + a_ids['septic_shock']\n",
    "\n",
    "exclusion_4 =  (\n",
    "    a_ids['bleeding']+ \n",
    "    a_ids['hemorrhagic_brain_injury'] + \n",
    "    a_ids['liver_cirrhosis'] + \n",
    "    a_ids['traumatic_brain_injury']  +\n",
    "    a_ids['antiplatlet']  + \n",
    "    a_ids['intestinal_problems'] +\n",
    "    a_ids['thrombocytopenia']\n",
    "    \n",
    ")\n",
    "\n",
    "res_4 = [item for item in res_4 if item not in exclusion_4]\n",
    "print len(res_4)"
   ]
  },
  {
   "cell_type": "code",
   "execution_count": 46,
   "metadata": {
    "collapsed": false
   },
   "outputs": [],
   "source": [
    "lengths = map(len, [res_1, res_2, res_3, res_4])\n",
    "total_len = sum(lengths)\n",
    "#make the intersection matrix\n",
    "intersection_ratio_mat = np.zeros([4,4])\n",
    "intersection_mat = np.zeros([4,4])\n",
    "for p in product(enumerate([res_1,res_2, res_3, res_4]) , enumerate([res_1,res_2, res_3, res_4])):\n",
    "    intsct = len(set(p[0][1]).intersection(p[1][1]))\n",
    "    intersection_mat[p[0][0], p[1][0]] = intsct\n",
    "    intersection_ratio_mat[p[0][0], p[1][0]] = intsct/total_len\n",
    "    \n",
    "    "
   ]
  },
  {
   "cell_type": "code",
   "execution_count": 47,
   "metadata": {
    "collapsed": false
   },
   "outputs": [
    {
     "data": {
      "text/plain": [
       "[((0, 'res_1'), (0, 'res_1')),\n",
       " ((0, 'res_1'), (1, 'res_2')),\n",
       " ((0, 'res_1'), (2, 'res_3')),\n",
       " ((0, 'res_1'), (3, 'res_4')),\n",
       " ((1, 'res_2'), (0, 'res_1')),\n",
       " ((1, 'res_2'), (1, 'res_2')),\n",
       " ((1, 'res_2'), (2, 'res_3')),\n",
       " ((1, 'res_2'), (3, 'res_4')),\n",
       " ((2, 'res_3'), (0, 'res_1')),\n",
       " ((2, 'res_3'), (1, 'res_2')),\n",
       " ((2, 'res_3'), (2, 'res_3')),\n",
       " ((2, 'res_3'), (3, 'res_4')),\n",
       " ((3, 'res_4'), (0, 'res_1')),\n",
       " ((3, 'res_4'), (1, 'res_2')),\n",
       " ((3, 'res_4'), (2, 'res_3')),\n",
       " ((3, 'res_4'), (3, 'res_4'))]"
      ]
     },
     "execution_count": 47,
     "metadata": {},
     "output_type": "execute_result"
    }
   ],
   "source": [
    "\n",
    "list(product(enumerate([\"res_1\",\"res_2\", \"res_3\", \"res_4\"]), enumerate([\"res_1\",\"res_2\", \"res_3\", \"res_4\"])))"
   ]
  },
  {
   "cell_type": "code",
   "execution_count": 48,
   "metadata": {
    "collapsed": false
   },
   "outputs": [
    {
     "data": {
      "text/html": [
       "<div>\n",
       "<table border=\"1\" class=\"dataframe\">\n",
       "  <thead>\n",
       "    <tr style=\"text-align: right;\">\n",
       "      <th></th>\n",
       "      <th>cancer patients</th>\n",
       "      <th>Early Mobilisation in Intensive Care Unit : Interest of Cyclo-ergometry in Patients With Septic Chock</th>\n",
       "      <th>Tracheostomy and Weaning</th>\n",
       "      <th>Aspirin for Treatment</th>\n",
       "    </tr>\n",
       "  </thead>\n",
       "  <tbody>\n",
       "    <tr>\n",
       "      <th>cancer patients</th>\n",
       "      <td>0.171174</td>\n",
       "      <td>0.000955</td>\n",
       "      <td>0.000795</td>\n",
       "      <td>0.001432</td>\n",
       "    </tr>\n",
       "    <tr>\n",
       "      <th>Early Mobilisation in Intensive Care Unit : Interest of Cyclo-ergometry in Patients With Septic Chock</th>\n",
       "      <td>0.000955</td>\n",
       "      <td>0.260420</td>\n",
       "      <td>0.009386</td>\n",
       "      <td>0.185332</td>\n",
       "    </tr>\n",
       "    <tr>\n",
       "      <th>Tracheostomy and Weaning</th>\n",
       "      <td>0.000795</td>\n",
       "      <td>0.009386</td>\n",
       "      <td>0.092109</td>\n",
       "      <td>0.014795</td>\n",
       "    </tr>\n",
       "    <tr>\n",
       "      <th>Aspirin for Treatment</th>\n",
       "      <td>0.001432</td>\n",
       "      <td>0.185332</td>\n",
       "      <td>0.014795</td>\n",
       "      <td>0.471524</td>\n",
       "    </tr>\n",
       "  </tbody>\n",
       "</table>\n",
       "</div>"
      ],
      "text/plain": [
       "                                                    cancer patients  \\\n",
       "cancer patients                                            0.171174   \n",
       "Early Mobilisation in Intensive Care Unit : Int...         0.000955   \n",
       "Tracheostomy and Weaning                                   0.000795   \n",
       "Aspirin for Treatment                                      0.001432   \n",
       "\n",
       "                                                    Early Mobilisation in Intensive Care Unit : Interest of Cyclo-ergometry in Patients With Septic Chock  \\\n",
       "cancer patients                                                                              0.000955                                                       \n",
       "Early Mobilisation in Intensive Care Unit : Int...                                           0.260420                                                       \n",
       "Tracheostomy and Weaning                                                                     0.009386                                                       \n",
       "Aspirin for Treatment                                                                        0.185332                                                       \n",
       "\n",
       "                                                    Tracheostomy and Weaning   \\\n",
       "cancer patients                                                      0.000795   \n",
       "Early Mobilisation in Intensive Care Unit : Int...                   0.009386   \n",
       "Tracheostomy and Weaning                                             0.092109   \n",
       "Aspirin for Treatment                                                0.014795   \n",
       "\n",
       "                                                    Aspirin for Treatment   \n",
       "cancer patients                                                   0.001432  \n",
       "Early Mobilisation in Intensive Care Unit : Int...                0.185332  \n",
       "Tracheostomy and Weaning                                          0.014795  \n",
       "Aspirin for Treatment                                             0.471524  "
      ]
     },
     "execution_count": 48,
     "metadata": {},
     "output_type": "execute_result"
    }
   ],
   "source": [
    "#Take a look at the cohorts\n",
    "labels = [\"cancer patients\",\"Early Mobilisation in Intensive Care Unit : Interest of Cyclo-ergometry in Patients With Septic Chock\",\n",
    "            \"Tracheostomy and Weaning \",  \"Aspirin for Treatment \" ]\n",
    "\n",
    "#Normalized cohorts\n",
    "pd.DataFrame(intersection_ratio_mat,  columns = labels, index =labels)\n"
   ]
  },
  {
   "cell_type": "code",
   "execution_count": 49,
   "metadata": {
    "collapsed": false
   },
   "outputs": [
    {
     "data": {
      "text/html": [
       "<div>\n",
       "<table border=\"1\" class=\"dataframe\">\n",
       "  <thead>\n",
       "    <tr style=\"text-align: right;\">\n",
       "      <th></th>\n",
       "      <th>cancer patients</th>\n",
       "      <th>Early Mobilisation in Intensive Care Unit : Interest of Cyclo-ergometry in Patients With Septic Chock</th>\n",
       "      <th>Tracheostomy and Weaning</th>\n",
       "      <th>Aspirin for Treatment</th>\n",
       "    </tr>\n",
       "  </thead>\n",
       "  <tbody>\n",
       "    <tr>\n",
       "      <th>cancer patients</th>\n",
       "      <td>1076.0</td>\n",
       "      <td>6.0</td>\n",
       "      <td>5.0</td>\n",
       "      <td>9.0</td>\n",
       "    </tr>\n",
       "    <tr>\n",
       "      <th>Early Mobilisation in Intensive Care Unit : Interest of Cyclo-ergometry in Patients With Septic Chock</th>\n",
       "      <td>6.0</td>\n",
       "      <td>1637.0</td>\n",
       "      <td>59.0</td>\n",
       "      <td>1165.0</td>\n",
       "    </tr>\n",
       "    <tr>\n",
       "      <th>Tracheostomy and Weaning</th>\n",
       "      <td>5.0</td>\n",
       "      <td>59.0</td>\n",
       "      <td>579.0</td>\n",
       "      <td>93.0</td>\n",
       "    </tr>\n",
       "    <tr>\n",
       "      <th>Aspirin for Treatment</th>\n",
       "      <td>9.0</td>\n",
       "      <td>1165.0</td>\n",
       "      <td>93.0</td>\n",
       "      <td>2964.0</td>\n",
       "    </tr>\n",
       "  </tbody>\n",
       "</table>\n",
       "</div>"
      ],
      "text/plain": [
       "                                                    cancer patients  \\\n",
       "cancer patients                                              1076.0   \n",
       "Early Mobilisation in Intensive Care Unit : Int...              6.0   \n",
       "Tracheostomy and Weaning                                        5.0   \n",
       "Aspirin for Treatment                                           9.0   \n",
       "\n",
       "                                                    Early Mobilisation in Intensive Care Unit : Interest of Cyclo-ergometry in Patients With Septic Chock  \\\n",
       "cancer patients                                                                                   6.0                                                       \n",
       "Early Mobilisation in Intensive Care Unit : Int...                                             1637.0                                                       \n",
       "Tracheostomy and Weaning                                                                         59.0                                                       \n",
       "Aspirin for Treatment                                                                          1165.0                                                       \n",
       "\n",
       "                                                    Tracheostomy and Weaning   \\\n",
       "cancer patients                                                           5.0   \n",
       "Early Mobilisation in Intensive Care Unit : Int...                       59.0   \n",
       "Tracheostomy and Weaning                                                579.0   \n",
       "Aspirin for Treatment                                                    93.0   \n",
       "\n",
       "                                                    Aspirin for Treatment   \n",
       "cancer patients                                                        9.0  \n",
       "Early Mobilisation in Intensive Care Unit : Int...                  1165.0  \n",
       "Tracheostomy and Weaning                                              93.0  \n",
       "Aspirin for Treatment                                               2964.0  "
      ]
     },
     "execution_count": 49,
     "metadata": {},
     "output_type": "execute_result"
    }
   ],
   "source": [
    "#Unnormalized \n",
    "pd.DataFrame(intersection_mat, columns=labels, index = labels)"
   ]
  },
  {
   "cell_type": "code",
   "execution_count": 17,
   "metadata": {
    "collapsed": true
   },
   "outputs": [],
   "source": [
    "#Write_to_file\n",
    "(pd.DataFrame(list(res_1))).to_csv(join(path, \"cancer_cohort_ids.csv\"))\n",
    "(pd.DataFrame(list(res_4))).to_csv(join(path, \"aspirin_cohort_ids.csv\"))"
   ]
  },
  {
   "cell_type": "code",
   "execution_count": null,
   "metadata": {
    "collapsed": false
   },
   "outputs": [],
   "source": [
    "from itertools import permutations_"
   ]
  },
  {
   "cell_type": "code",
   "execution_count": null,
   "metadata": {
    "collapsed": true
   },
   "outputs": [],
   "source": [
    "iproduct"
   ]
  }
 ],
 "metadata": {
  "kernelspec": {
   "display_name": "Python 2",
   "language": "python",
   "name": "python2"
  },
  "language_info": {
   "codemirror_mode": {
    "name": "ipython",
    "version": 2
   },
   "file_extension": ".py",
   "mimetype": "text/x-python",
   "name": "python",
   "nbconvert_exporter": "python",
   "pygments_lexer": "ipython2",
   "version": "2.7.12"
  }
 },
 "nbformat": 4,
 "nbformat_minor": 1
}
